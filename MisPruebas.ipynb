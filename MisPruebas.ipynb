{
 "cells": [
  {
   "cell_type": "code",
   "execution_count": 1,
   "metadata": {},
   "outputs": [],
   "source": [
    "import pandas as pd"
   ]
  },
  {
   "cell_type": "code",
   "execution_count": 7,
   "metadata": {},
   "outputs": [
    {
     "name": "stderr",
     "output_type": "stream",
     "text": [
      "c:\\Users\\ecm7985d\\.conda\\envs\\geofull\\lib\\site-packages\\IPython\\core\\interactiveshell.py:3444: DtypeWarning: Columns (15) have mixed types.Specify dtype option on import or set low_memory=False.\n",
      "  exec(code_obj, self.user_global_ns, self.user_ns)\n"
     ]
    }
   ],
   "source": [
    "df = pd.read_csv(\"compilado_3650.csv\",sep=\";\",decimal=\",\")\n",
    "city = pd.read_csv(\"vw_geografia.csv\",sep=\",\")"
   ]
  },
  {
   "cell_type": "code",
   "execution_count": 13,
   "metadata": {},
   "outputs": [
    {
     "data": {
      "text/html": [
       "<div>\n",
       "<style scoped>\n",
       "    .dataframe tbody tr th:only-of-type {\n",
       "        vertical-align: middle;\n",
       "    }\n",
       "\n",
       "    .dataframe tbody tr th {\n",
       "        vertical-align: top;\n",
       "    }\n",
       "\n",
       "    .dataframe thead th {\n",
       "        text-align: right;\n",
       "    }\n",
       "</style>\n",
       "<table border=\"1\" class=\"dataframe\">\n",
       "  <thead>\n",
       "    <tr style=\"text-align: right;\">\n",
       "      <th></th>\n",
       "      <th>id_ciudad</th>\n",
       "      <th>ciudad</th>\n",
       "    </tr>\n",
       "  </thead>\n",
       "  <tbody>\n",
       "    <tr>\n",
       "      <th>0</th>\n",
       "      <td>0</td>\n",
       "      <td>NO IDENTIFICADO</td>\n",
       "    </tr>\n",
       "    <tr>\n",
       "      <th>1</th>\n",
       "      <td>1</td>\n",
       "      <td>LETICIA</td>\n",
       "    </tr>\n",
       "    <tr>\n",
       "      <th>2</th>\n",
       "      <td>2</td>\n",
       "      <td>PUERTO NARIÑO</td>\n",
       "    </tr>\n",
       "    <tr>\n",
       "      <th>3</th>\n",
       "      <td>3</td>\n",
       "      <td>ABEJORRAL</td>\n",
       "    </tr>\n",
       "    <tr>\n",
       "      <th>4</th>\n",
       "      <td>4</td>\n",
       "      <td>ABRIAQUI</td>\n",
       "    </tr>\n",
       "    <tr>\n",
       "      <th>...</th>\n",
       "      <td>...</td>\n",
       "      <td>...</td>\n",
       "    </tr>\n",
       "    <tr>\n",
       "      <th>3681</th>\n",
       "      <td>1098</td>\n",
       "      <td>TARAIRA</td>\n",
       "    </tr>\n",
       "    <tr>\n",
       "      <th>3682</th>\n",
       "      <td>1099</td>\n",
       "      <td>CUMARIBO</td>\n",
       "    </tr>\n",
       "    <tr>\n",
       "      <th>3683</th>\n",
       "      <td>1100</td>\n",
       "      <td>LA PRIMAVERA</td>\n",
       "    </tr>\n",
       "    <tr>\n",
       "      <th>3684</th>\n",
       "      <td>1101</td>\n",
       "      <td>PUERTO CARREÑO</td>\n",
       "    </tr>\n",
       "    <tr>\n",
       "      <th>3685</th>\n",
       "      <td>1102</td>\n",
       "      <td>SANTA ROSALIA</td>\n",
       "    </tr>\n",
       "  </tbody>\n",
       "</table>\n",
       "<p>1103 rows × 2 columns</p>\n",
       "</div>"
      ],
      "text/plain": [
       "      id_ciudad           ciudad\n",
       "0             0  NO IDENTIFICADO\n",
       "1             1          LETICIA\n",
       "2             2    PUERTO NARIÑO\n",
       "3             3        ABEJORRAL\n",
       "4             4         ABRIAQUI\n",
       "...         ...              ...\n",
       "3681       1098          TARAIRA\n",
       "3682       1099         CUMARIBO\n",
       "3683       1100     LA PRIMAVERA\n",
       "3684       1101   PUERTO CARREÑO\n",
       "3685       1102    SANTA ROSALIA\n",
       "\n",
       "[1103 rows x 2 columns]"
      ]
     },
     "execution_count": 13,
     "metadata": {},
     "output_type": "execute_result"
    }
   ],
   "source": []
  },
  {
   "cell_type": "code",
   "execution_count": 15,
   "metadata": {},
   "outputs": [],
   "source": [
    "ofer =df.merge(city[['id_ciudad','ciudad']].drop_duplicates()\n",
    "                ,left_on=['ID_Ciudad'],right_on=['id_ciudad'])"
   ]
  },
  {
   "cell_type": "code",
   "execution_count": 18,
   "metadata": {},
   "outputs": [],
   "source": [
    "col_ofer = ['Longitud', 'Latitud',\n",
    "       'ID_Estrato', 'Canon', 'Area_Construida', 'Area_Privada', 'Antiguedad',\n",
    "       'Piso', 'Habitaciones', 'Banios', 'Parqueadero', \n",
    "       'Administración', 'Incluye_admin', 'Descripcion', \n",
    "       'ciudad']"
   ]
  },
  {
   "cell_type": "code",
   "execution_count": 17,
   "metadata": {},
   "outputs": [
    {
     "data": {
      "text/plain": [
       "6            11139\n",
       "3            10613\n",
       "4            10097\n",
       "5             7342\n",
       "2             1946\n",
       "1              616\n",
       "campestre      176\n",
       "0              158\n",
       "Name: ID_Estrato, dtype: int64"
      ]
     },
     "execution_count": 17,
     "metadata": {},
     "output_type": "execute_result"
    }
   ],
   "source": [
    "ofer[col_ofer].to_csv(\"Ofertas_finales.csv\",sep=\"|\")"
   ]
  },
  {
   "cell_type": "code",
   "execution_count": null,
   "metadata": {},
   "outputs": [],
   "source": []
  }
 ],
 "metadata": {
  "kernelspec": {
   "display_name": "geofull",
   "language": "python",
   "name": "python3"
  },
  "language_info": {
   "codemirror_mode": {
    "name": "ipython",
    "version": 3
   },
   "file_extension": ".py",
   "mimetype": "text/x-python",
   "name": "python",
   "nbconvert_exporter": "python",
   "pygments_lexer": "ipython3",
   "version": "3.7.10"
  },
  "orig_nbformat": 4,
  "vscode": {
   "interpreter": {
    "hash": "bbea108acc5b932747fab1df95fe3995dbf44a96b713be8a7158f200bdaa6c07"
   }
  }
 },
 "nbformat": 4,
 "nbformat_minor": 2
}
