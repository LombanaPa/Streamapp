{
 "cells": [
  {
   "cell_type": "code",
   "execution_count": 1,
   "metadata": {},
   "outputs": [],
   "source": [
    "import pandas as pd\n",
    "import numpy as np\n",
    "import matplotlib.pyplot as plt\n",
    "import seaborn as sns\n",
    "import statsmodels.formula.api as sm\n",
    "from sklearn.linear_model import LinearRegression\n"
   ]
  },
  {
   "cell_type": "code",
   "execution_count": 2,
   "metadata": {},
   "outputs": [],
   "source": [
    "df = pd.read_csv(\"Ofertas_finales.csv\",sep=\"|\")"
   ]
  },
  {
   "cell_type": "code",
   "execution_count": 73,
   "metadata": {},
   "outputs": [
    {
     "data": {
      "text/plain": [
       "Index(['ID_Subtipo', 'ID_Estrato', 'Canon', 'Area_Construida', 'Area_Privada',\n",
       "       'Antiguedad', 'Piso', 'Habitaciones', 'Banios', 'Parqueadero',\n",
       "       'Incluye_admin'],\n",
       "      dtype='object')"
      ]
     },
     "execution_count": 73,
     "metadata": {},
     "output_type": "execute_result"
    }
   ],
   "source": [
    "df.columns"
   ]
  },
  {
   "cell_type": "code",
   "execution_count": 3,
   "metadata": {},
   "outputs": [],
   "source": [
    "#### Preproccesing\n",
    "def DroppingVariables(var: list, df):\n",
    "    return df.drop(var,axis=1)\n"
   ]
  },
  {
   "cell_type": "code",
   "execution_count": 6,
   "metadata": {},
   "outputs": [],
   "source": [
    "df = DroppingVariables(['ciudad','Longitud','Latitud',\n",
    "                'Administración','Descripcion'],df)"
   ]
  },
  {
   "cell_type": "code",
   "execution_count": 7,
   "metadata": {},
   "outputs": [
    {
     "data": {
      "text/plain": [
       "'d:\\\\PABLO\\\\Streamapp'"
      ]
     },
     "execution_count": 7,
     "metadata": {},
     "output_type": "execute_result"
    }
   ],
   "source": [
    "%pwd"
   ]
  },
  {
   "cell_type": "code",
   "execution_count": 87,
   "metadata": {},
   "outputs": [],
   "source": [
    "from tqdm import tqdm"
   ]
  },
  {
   "cell_type": "code",
   "execution_count": 88,
   "metadata": {},
   "outputs": [
    {
     "name": "stderr",
     "output_type": "stream",
     "text": [
      "100%|██████████| 8/8 [00:00<00:00, 23.12it/s]\n"
     ]
    }
   ],
   "source": [
    "df_completo = pd.DataFrame()\n",
    "for kan in tqdm(df['ID_Estrato'].unique()):\n",
    "    for kun in df['ID_Subtipo'].unique():\n",
    "        paso = df.loc[(df['ID_Estrato']==kan)&(df['ID_Subtipo']==kun)]\n",
    "        std = np.std(paso['Canon'])\n",
    "        mean = np.mean(paso['Canon'])\n",
    "        df_completo = pd.concat([df_completo\n",
    "                    ,paso.loc[(paso['Canon']>mean-2*std)&(paso['Canon']<mean+2*std)]])\n"
   ]
  },
  {
   "cell_type": "code",
   "execution_count": 90,
   "metadata": {},
   "outputs": [],
   "source": [
    "df = df_completo.copy()"
   ]
  },
  {
   "cell_type": "code",
   "execution_count": 91,
   "metadata": {},
   "outputs": [],
   "source": [
    "X = df.drop(['Canon'],axis=1)\n",
    "y= df[['Canon','ID_Subtipo']]"
   ]
  },
  {
   "cell_type": "code",
   "execution_count": 92,
   "metadata": {},
   "outputs": [],
   "source": [
    "col_categoricos = X.select_dtypes(\"object\").columns\n",
    "col_categoricos = col_categoricos.drop('ID_Subtipo')\n",
    "col_numericos = X.select_dtypes(np.number).columns"
   ]
  },
  {
   "cell_type": "code",
   "execution_count": 93,
   "metadata": {},
   "outputs": [],
   "source": [
    "from sklearn.preprocessing import OneHotEncoder\n",
    "from sklearn.preprocessing import StandardScaler"
   ]
  },
  {
   "cell_type": "code",
   "execution_count": 94,
   "metadata": {},
   "outputs": [],
   "source": [
    "from sklearn.pipeline import Pipeline\n",
    "from sklearn.pipeline import FeatureUnion\n",
    "from sklearn.compose import ColumnTransformer\n",
    "from sklearn.ensemble import RandomForestRegressor,GradientBoostingRegressor"
   ]
  },
  {
   "cell_type": "code",
   "execution_count": 95,
   "metadata": {},
   "outputs": [],
   "source": [
    "#['estrato_0',\n",
    "#'estrato_1','estrato_2','estrato_3','estrato_4','estrato_5','estrato_6','estrato_7','Admin_NO','Admin_Si']"
   ]
  },
  {
   "cell_type": "code",
   "execution_count": 96,
   "metadata": {},
   "outputs": [],
   "source": [
    "for i in X['ID_Subtipo'].unique():\n",
    "    numeric_transformer = StandardScaler()\n",
    "    categorical_transformer = OneHotEncoder()\n",
    "    preprocessor = ColumnTransformer(\n",
    "        transformers=[\n",
    "            (\"categorical\",categorical_transformer,col_categoricos),\n",
    "                (\"numerico\",numeric_transformer, col_numericos)\n",
    "            ]\n",
    "    )\n",
    "    clf = Pipeline(\n",
    "        steps=[('preprocessor',preprocessor)]\n",
    "    )\n",
    "\n",
    "    clf_modelo = Pipeline(\n",
    "        steps=[(\"Preprocesando\",clf),(\"Modelando\",GradientBoostingRegressor(random_state=19))]\n",
    "    )\n",
    "\n",
    "    #### \n",
    "    from sklearn.model_selection import train_test_split\n",
    "    import joblib\n",
    "    X_train,X_test,y_train,y_test = train_test_split(X.query(f\"ID_Subtipo=='{i}'\")\n",
    "                        ,y.query(f\"ID_Subtipo=='{i}'\")['Canon'],test_size=0.3)\n",
    "\n",
    "    #### to export my preproccesor\n",
    "    clf.fit(X_train)\n",
    "    #joblib.dump(clf, \"transformador.pkl\")\n",
    "\n",
    "    ###\n",
    "    clf_modelo.fit(X_train,y_train)\n",
    "    joblib.dump(clf_modelo,f\"Modelo_{i}.pkl\")"
   ]
  },
  {
   "cell_type": "code",
   "execution_count": 60,
   "metadata": {},
   "outputs": [],
   "source": [
    "mode = joblib.load(f\"Modelo_{i}.pkl\")"
   ]
  },
  {
   "cell_type": "code",
   "execution_count": 65,
   "metadata": {},
   "outputs": [],
   "source": [
    "X_predict = pd.DataFrame(columns = ['ID_Estrato', 'Area_Construida', 'Area_Privada',\n",
    "       'Antiguedad', 'Piso', 'Habitaciones', 'Banios', 'Parqueadero',\n",
    "       'Incluye_admin'])"
   ]
  },
  {
   "cell_type": "code",
   "execution_count": 71,
   "metadata": {},
   "outputs": [],
   "source": [
    "X_predict.loc[0] = ['1',34.37,40.45,20,3,1,1,1,'NO']"
   ]
  },
  {
   "cell_type": "code",
   "execution_count": 72,
   "metadata": {},
   "outputs": [
    {
     "data": {
      "text/plain": [
       "array([5416485.91679876])"
      ]
     },
     "execution_count": 72,
     "metadata": {},
     "output_type": "execute_result"
    }
   ],
   "source": [
    "mode.predict(X_predict)"
   ]
  },
  {
   "cell_type": "code",
   "execution_count": null,
   "metadata": {},
   "outputs": [],
   "source": []
  }
 ],
 "metadata": {
  "kernelspec": {
   "display_name": "geofull",
   "language": "python",
   "name": "python3"
  },
  "language_info": {
   "codemirror_mode": {
    "name": "ipython",
    "version": 3
   },
   "file_extension": ".py",
   "mimetype": "text/x-python",
   "name": "python",
   "nbconvert_exporter": "python",
   "pygments_lexer": "ipython3",
   "version": "3.7.10"
  },
  "orig_nbformat": 4,
  "vscode": {
   "interpreter": {
    "hash": "bbea108acc5b932747fab1df95fe3995dbf44a96b713be8a7158f200bdaa6c07"
   }
  }
 },
 "nbformat": 4,
 "nbformat_minor": 2
}
